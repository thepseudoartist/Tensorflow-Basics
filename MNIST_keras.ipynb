{
  "nbformat": 4,
  "nbformat_minor": 0,
  "metadata": {
    "colab": {
      "name": "MNIST_keras.ipynb",
      "version": "0.3.2",
      "provenance": [],
      "collapsed_sections": [],
      "include_colab_link": true
    },
    "kernelspec": {
      "name": "python3",
      "display_name": "Python 3"
    },
    "accelerator": "GPU"
  },
  "cells": [
    {
      "cell_type": "markdown",
      "metadata": {
        "id": "view-in-github",
        "colab_type": "text"
      },
      "source": [
        "<a href=\"https://colab.research.google.com/github/thepseudoartist/Tensorflow-Basics/blob/master/MNIST_keras.ipynb\" target=\"_parent\"><img src=\"https://colab.research.google.com/assets/colab-badge.svg\" alt=\"Open In Colab\"/></a>"
      ]
    },
    {
      "cell_type": "code",
      "metadata": {
        "id": "h9cKIHOJFRrK",
        "colab_type": "code",
        "colab": {}
      },
      "source": [
        "%matplotlib inline\n",
        "import tensorflow as tf\n",
        "import matplotlib.pyplot as plt\n",
        "import numpy as np"
      ],
      "execution_count": 0,
      "outputs": []
    },
    {
      "cell_type": "code",
      "metadata": {
        "id": "BuV4ephfFkJE",
        "colab_type": "code",
        "colab": {}
      },
      "source": [
        "# loading the dataset\n",
        "mnist = tf.keras.datasets.mnist\n",
        "(x_train, y_train), (x_test, y_test) = mnist.load_data()"
      ],
      "execution_count": 0,
      "outputs": []
    },
    {
      "cell_type": "code",
      "metadata": {
        "id": "LS8JxxOto4q0",
        "colab_type": "code",
        "outputId": "f1216589-447e-4026-fb7a-16611425d135",
        "colab": {
          "base_uri": "https://localhost:8080/",
          "height": 286
        }
      },
      "source": [
        "sample_image = x_train[15].reshape(28, 28)\n",
        "plt.imshow(sample_image)"
      ],
      "execution_count": 0,
      "outputs": [
        {
          "output_type": "execute_result",
          "data": {
            "text/plain": [
              "<matplotlib.image.AxesImage at 0x7f37d005ee10>"
            ]
          },
          "metadata": {
            "tags": []
          },
          "execution_count": 11
        },
        {
          "output_type": "display_data",
          "data": {
            "image/png": "[encoded data removed]",
            "text/plain": [
              "<Figure size 432x288 with 1 Axes>"
            ]
          },
          "metadata": {
            "tags": []
          }
        }
      ]
    },
    {
      "cell_type": "code",
      "metadata": {
        "id": "2InLFPaJrFLM",
        "colab_type": "code",
        "colab": {}
      },
      "source": [
        ""
      ],
      "execution_count": 0,
      "outputs": []
    },
    {
      "cell_type": "code",
      "metadata": {
        "id": "36kn9v--q1Om",
        "colab_type": "code",
        "outputId": "a6ba6720-afb6-466b-f2e2-c0c1e9ca44db",
        "colab": {
          "base_uri": "https://localhost:8080/",
          "height": 52
        }
      },
      "source": [
        "print(sample_image.min(), sample_image.max(), sep='\\n')"
      ],
      "execution_count": 0,
      "outputs": [
        {
          "output_type": "stream",
          "text": [
            "0\n",
            "255\n"
          ],
          "name": "stdout"
        }
      ]
    },
    {
      "cell_type": "code",
      "metadata": {
        "id": "1x2FoooDaPRj",
        "colab_type": "code",
        "colab": {}
      },
      "source": [
        "# normalizing the data points\n",
        "x_train, x_test = x_train / 255., x_test / 255.\n",
        "x_train, x_test = x_train.reshape((-1, 28, 28, 1)), x_test.reshape((-1, 28, 28, 1))"
      ],
      "execution_count": 0,
      "outputs": []
    },
    {
      "cell_type": "code",
      "metadata": {
        "id": "nvCTxc3Tq6Qr",
        "colab_type": "code",
        "outputId": "3641abbf-65f2-4988-ac86-407be6ea4d65",
        "colab": {
          "base_uri": "https://localhost:8080/",
          "height": 34
        }
      },
      "source": [
        "print(y_train[15])"
      ],
      "execution_count": 0,
      "outputs": [
        {
          "output_type": "stream",
          "text": [
            "7\n"
          ],
          "name": "stdout"
        }
      ]
    },
    {
      "cell_type": "code",
      "metadata": {
        "id": "dKQSF-4BrLFz",
        "colab_type": "code",
        "colab": {}
      },
      "source": [
        "# one hot encoding the labels\n",
        "y_train = tf.keras.utils.to_categorical(y_train, 10)\n",
        "y_test = tf.keras.utils.to_categorical(y_test, 10)"
      ],
      "execution_count": 0,
      "outputs": []
    },
    {
      "cell_type": "code",
      "metadata": {
        "id": "DiZJuYJ7o0r9",
        "colab_type": "code",
        "outputId": "ee6d8ac0-0691-4998-bda3-f1148ef87fba",
        "colab": {
          "base_uri": "https://localhost:8080/",
          "height": 34
        }
      },
      "source": [
        "print(x_train.shape)"
      ],
      "execution_count": 0,
      "outputs": [
        {
          "output_type": "stream",
          "text": [
            "(60000, 28, 28, 1)\n"
          ],
          "name": "stdout"
        }
      ]
    },
    {
      "cell_type": "code",
      "metadata": {
        "id": "y6BSAv4-GNB6",
        "colab_type": "code",
        "outputId": "429dedad-98e4-45a2-82d7-edb54524f395",
        "colab": {
          "base_uri": "https://localhost:8080/",
          "height": 399
        }
      },
      "source": [
        "# initializing the model\n",
        "\n",
        "model = tf.keras.models.Sequential([\n",
        "    tf.keras.layers.Conv2D(32, (5, 5), strides=(1, 1), padding=\"same\", activation=tf.nn.relu),\n",
        "    tf.keras.layers.Conv2D(64, (5, 5), strides=(1, 1), padding=\"same\", activation=tf.nn.relu),\n",
        "\n",
        "    tf.keras.layers.Dropout(0.3),\n",
        "    \n",
        "    tf.keras.layers.MaxPooling2D(pool_size=(2,2)),    \n",
        "    tf.keras.layers.Conv2D(128, (5, 5), strides=(1, 1), padding=\"same\", activation=tf.nn.relu),\n",
        "\n",
        "    tf.keras.layers.Dropout(0.5),\n",
        "    \n",
        "    tf.keras.layers.MaxPooling2D(pool_size=(2,2)),    \n",
        "    \n",
        "    tf.keras.layers.Flatten(),\n",
        "    tf.keras.layers.Dense(10, activation=tf.nn.softmax)\n",
        "])\n",
        "\n",
        "\n",
        "# compiling model\n",
        "\n",
        "model.compile(optimizer='adam', loss='categorical_crossentropy', metrics=['accuracy'])\n",
        "model.fit(x_train, y_train, batch_size=256, epochs=10, )\n",
        "model.evaluate(x_test, y_test)"
      ],
      "execution_count": 0,
      "outputs": [
        {
          "output_type": "stream",
          "text": [
            "Epoch 1/10\n",
            "60000/60000 [==============================] - 8s 135us/sample - loss: 0.1908 - acc: 0.9409\n",
            "Epoch 2/10\n",
            "60000/60000 [==============================] - 8s 131us/sample - loss: 0.0476 - acc: 0.9849\n",
            "Epoch 3/10\n",
            "60000/60000 [==============================] - 8s 131us/sample - loss: 0.0352 - acc: 0.9889\n",
            "Epoch 4/10\n",
            "60000/60000 [==============================] - 8s 132us/sample - loss: 0.0283 - acc: 0.9910\n",
            "Epoch 5/10\n",
            "60000/60000 [==============================] - 8s 132us/sample - loss: 0.0235 - acc: 0.9927\n",
            "Epoch 6/10\n",
            "60000/60000 [==============================] - 8s 131us/sample - loss: 0.0202 - acc: 0.9934\n",
            "Epoch 7/10\n",
            "60000/60000 [==============================] - 8s 130us/sample - loss: 0.0184 - acc: 0.9942\n",
            "Epoch 8/10\n",
            "60000/60000 [==============================] - 8s 130us/sample - loss: 0.0162 - acc: 0.9948\n",
            "Epoch 9/10\n",
            "60000/60000 [==============================] - 8s 129us/sample - loss: 0.0142 - acc: 0.9954\n",
            "Epoch 10/10\n",
            "60000/60000 [==============================] - 8s 129us/sample - loss: 0.0126 - acc: 0.9959\n",
            "10000/10000 [==============================] - 1s 78us/sample - loss: 0.0220 - acc: 0.9938\n"
          ],
          "name": "stdout"
        },
        {
          "output_type": "execute_result",
          "data": {
            "text/plain": [
              "[0.021955563945462928, 0.9938]"
            ]
          },
          "metadata": {
            "tags": []
          },
          "execution_count": 5
        }
      ]
    },
    {
      "cell_type": "code",
      "metadata": {
        "id": "1kmmVHOofbML",
        "colab_type": "code",
        "outputId": "154483c8-3eb7-4f3c-f6c0-81b847f168ca",
        "colab": {
          "base_uri": "https://localhost:8080/",
          "height": 34
        }
      },
      "source": [
        "print(tf.__version__)"
      ],
      "execution_count": 0,
      "outputs": [
        {
          "output_type": "stream",
          "text": [
            "1.13.1\n"
          ],
          "name": "stdout"
        }
      ]
    },
    {
      "cell_type": "code",
      "metadata": {
        "id": "61tAfs8VlUJk",
        "colab_type": "code",
        "colab": {}
      },
      "source": [
        ""
      ],
      "execution_count": 0,
      "outputs": []
    }
  ]
}