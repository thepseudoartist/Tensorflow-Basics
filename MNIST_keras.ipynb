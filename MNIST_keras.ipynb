{
  "nbformat": 4,
  "nbformat_minor": 0,
  "metadata": {
    "colab": {
      "name": "MNIST_keras.ipynb",
      "version": "0.3.2",
      "provenance": [],
      "collapsed_sections": []
    },
    "kernelspec": {
      "name": "python3",
      "display_name": "Python 3"
    },
    "accelerator": "GPU"
  },
  "cells": [
    {
      "cell_type": "code",
      "metadata": {
        "id": "h9cKIHOJFRrK",
        "colab_type": "code",
        "colab": {}
      },
      "source": [
        "%matplotlib inline\n",
        "import tensorflow as tf\n",
        "import matplotlib.pyplot as plt\n",
        "import numpy as np"
      ],
      "execution_count": 0,
      "outputs": []
    },
    {
      "cell_type": "code",
      "metadata": {
        "id": "BuV4ephfFkJE",
        "colab_type": "code",
        "colab": {}
      },
      "source": [
        "# loading the dataset\n",
        "mnist = tf.keras.datasets.mnist\n",
        "(x_train, y_train), (x_test, y_test) = mnist.load_data()\n",
        "\n",
        "# normalizing the data points\n",
        "x_train, x_test = x_train / 255., x_test / 255.\n",
        "x_train, x_test = x_train.reshape((-1, 28, 28, 1)), x_test.reshape((-1, 28, 28, 1))\n",
        "\n",
        "# one hot encoding the labels\n",
        "y_train = tf.keras.utils.to_categorical(y_train, 10)\n",
        "y_test = tf.keras.utils.to_categorical(y_test, 10)"
      ],
      "execution_count": 0,
      "outputs": []
    },
    {
      "cell_type": "code",
      "metadata": {
        "id": "1x2FoooDaPRj",
        "colab_type": "code",
        "colab": {
          "base_uri": "https://localhost:8080/",
          "height": 34
        },
        "outputId": "00ef7b35-940b-4ddf-d286-abb9030c2a88"
      },
      "source": [
        "print(x_train.shape)"
      ],
      "execution_count": 3,
      "outputs": [
        {
          "output_type": "stream",
          "text": [
            "(60000, 28, 28, 1)\n"
          ],
          "name": "stdout"
        }
      ]
    },
    {
      "cell_type": "code",
      "metadata": {
        "id": "y6BSAv4-GNB6",
        "colab_type": "code",
        "colab": {
          "base_uri": "https://localhost:8080/",
          "height": 399
        },
        "outputId": "429dedad-98e4-45a2-82d7-edb54524f395"
      },
      "source": [
        "# initializing the model\n",
        "\n",
        "model = tf.keras.models.Sequential([\n",
        "    tf.keras.layers.Conv2D(32, (5, 5), strides=(1, 1), padding=\"same\", activation=tf.nn.relu),\n",
        "    tf.keras.layers.Conv2D(64, (5, 5), strides=(1, 1), padding=\"same\", activation=tf.nn.relu),\n",
        "\n",
        "    tf.keras.layers.Dropout(0.3),\n",
        "    \n",
        "    tf.keras.layers.MaxPooling2D(pool_size=(2,2)),    \n",
        "    tf.keras.layers.Conv2D(128, (5, 5), strides=(1, 1), padding=\"same\", activation=tf.nn.relu),\n",
        "\n",
        "    tf.keras.layers.Dropout(0.5),\n",
        "    \n",
        "    tf.keras.layers.MaxPooling2D(pool_size=(2,2)),    \n",
        "    \n",
        "    tf.keras.layers.Flatten(),\n",
        "    tf.keras.layers.Dense(10, activation=tf.nn.softmax)\n",
        "])\n",
        "\n",
        "\n",
        "# compiling model\n",
        "\n",
        "model.compile(optimizer='adam', loss='categorical_crossentropy', metrics=['accuracy'])\n",
        "model.fit(x_train, y_train, batch_size=256, epochs=10, )\n",
        "model.evaluate(x_test, y_test)"
      ],
      "execution_count": 5,
      "outputs": [
        {
          "output_type": "stream",
          "text": [
            "Epoch 1/10\n",
            "60000/60000 [==============================] - 8s 135us/sample - loss: 0.1908 - acc: 0.9409\n",
            "Epoch 2/10\n",
            "60000/60000 [==============================] - 8s 131us/sample - loss: 0.0476 - acc: 0.9849\n",
            "Epoch 3/10\n",
            "60000/60000 [==============================] - 8s 131us/sample - loss: 0.0352 - acc: 0.9889\n",
            "Epoch 4/10\n",
            "60000/60000 [==============================] - 8s 132us/sample - loss: 0.0283 - acc: 0.9910\n",
            "Epoch 5/10\n",
            "60000/60000 [==============================] - 8s 132us/sample - loss: 0.0235 - acc: 0.9927\n",
            "Epoch 6/10\n",
            "60000/60000 [==============================] - 8s 131us/sample - loss: 0.0202 - acc: 0.9934\n",
            "Epoch 7/10\n",
            "60000/60000 [==============================] - 8s 130us/sample - loss: 0.0184 - acc: 0.9942\n",
            "Epoch 8/10\n",
            "60000/60000 [==============================] - 8s 130us/sample - loss: 0.0162 - acc: 0.9948\n",
            "Epoch 9/10\n",
            "60000/60000 [==============================] - 8s 129us/sample - loss: 0.0142 - acc: 0.9954\n",
            "Epoch 10/10\n",
            "60000/60000 [==============================] - 8s 129us/sample - loss: 0.0126 - acc: 0.9959\n",
            "10000/10000 [==============================] - 1s 78us/sample - loss: 0.0220 - acc: 0.9938\n"
          ],
          "name": "stdout"
        },
        {
          "output_type": "execute_result",
          "data": {
            "text/plain": [
              "[0.021955563945462928, 0.9938]"
            ]
          },
          "metadata": {
            "tags": []
          },
          "execution_count": 5
        }
      ]
    },
    {
      "cell_type": "code",
      "metadata": {
        "id": "1kmmVHOofbML",
        "colab_type": "code",
        "colab": {}
      },
      "source": [
        ""
      ],
      "execution_count": 0,
      "outputs": []
    }
  ]
}